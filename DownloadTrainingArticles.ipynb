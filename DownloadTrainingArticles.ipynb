{
 "cells": [
  {
   "cell_type": "code",
   "execution_count": 75,
   "metadata": {
    "collapsed": false
   },
   "outputs": [],
   "source": [
    "import newspaper"
   ]
  },
  {
   "cell_type": "code",
   "execution_count": 76,
   "metadata": {
    "collapsed": false
   },
   "outputs": [
    {
     "name": "stdout",
     "output_type": "stream",
     "text": [
      "\n",
      "Your available languages are:\n",
      "\n",
      "input code\t\tfull name\n",
      "  ar\t\t\t  Arabic\n",
      "  da\t\t\t  Danish\n",
      "  de\t\t\t  German\n",
      "  en\t\t\t  English\n",
      "  es\t\t\t  Spanish\n",
      "  fi\t\t\t  Finnish\n",
      "  fr\t\t\t  French\n",
      "  he\t\t\t  Hebrew\n",
      "  hu\t\t\t  Hungarian\n",
      "  id\t\t\t  Indonesian\n",
      "  it\t\t\t  Italian\n",
      "  ko\t\t\t  Korean\n",
      "  mk\t\t\t  Macedonian\n",
      "  nb\t\t\t  Norwegian (Bokmål)\n",
      "  nl\t\t\t  Dutch\n",
      "  no\t\t\t  Norwegian\n",
      "  pt\t\t\t  Portuguese\n",
      "  ru\t\t\t  Russian\n",
      "  sv\t\t\t  Swedish\n",
      "  tr\t\t\t  Turkish\n",
      "  vi\t\t\t  Vietnamese\n",
      "  zh\t\t\t  Chinese\n",
      "\n"
     ]
    }
   ],
   "source": [
    "newspaper.languages()"
   ]
  },
  {
   "cell_type": "code",
   "execution_count": 4,
   "metadata": {
    "collapsed": false
   },
   "outputs": [],
   "source": [
    "from bs4 import BeautifulSoup\n",
    "import requests"
   ]
  },
  {
   "cell_type": "code",
   "execution_count": 13,
   "metadata": {
    "collapsed": false
   },
   "outputs": [],
   "source": [
    "url = \"http://www.allsides.com/news/2017-01-14-0754/democrats-confront-fbi-chief-closed-door-intelligence-briefing\"\n",
    "response = requests.get(url)\n",
    "soup = BeautifulSoup(response.content, \"html.parser\")"
   ]
  },
  {
   "cell_type": "code",
   "execution_count": 98,
   "metadata": {
    "collapsed": true
   },
   "outputs": [],
   "source": [
    "from collections import namedtuple\n",
    "# Article = namedtuple('Article', 'source authors bias date text')\n",
    "Article = namedtuple('Article', 'title bias text')"
   ]
  },
  {
   "cell_type": "code",
   "execution_count": 96,
   "metadata": {
    "collapsed": true
   },
   "outputs": [],
   "source": [
    "BIAS_DIV_ID = 'source-bias-info-block'\n",
    "BIAS_NAME_TO_SCORE = {\n",
    "    'Bias: Left': 0,\n",
    "    'Bias: Lean Left': .25,\n",
    "    'Bias: Center': .5,\n",
    "    'Bias: Lean Right': .75,\n",
    "    'Bias: Right': 1\n",
    "}"
   ]
  },
  {
   "cell_type": "code",
   "execution_count": 95,
   "metadata": {
    "collapsed": true
   },
   "outputs": [],
   "source": [
    "example_urls = [\n",
    "    \"http://www.allsides.com/news/2017-01-14-0754/democrats-confront-fbi-chief-closed-door-intelligence-briefing\",\n",
    "    \"http://www.allsides.com/news/2017-01-14-0746/cnn-trump%E2%80%99s-crosshairs\",\n",
    "    \"http://www.allsides.com/news/2017-01-14-0749/trump-adviser-michael-flynn-had-five-calls-russian-ambassador-day-sanctions\",\n",
    "    \"http://www.allsides.com/news/2017-01-14-0732/democratic-congressman-trump-not-legitimate-president-because-conspiracy\",\n",
    "    \"http://www.allsides.com/news/2017-01-13-0812/no-donald-trump-freezing-out-reporter-not-biggest-threat-freedom-press\"\n",
    "]"
   ]
  },
  {
   "cell_type": "code",
   "execution_count": 67,
   "metadata": {
    "collapsed": true
   },
   "outputs": [],
   "source": [
    "def url_to_soup(url):\n",
    "    response = requests.get(url)\n",
    "    return BeautifulSoup(response.content, \"html.parser\")"
   ]
  },
  {
   "cell_type": "code",
   "execution_count": 99,
   "metadata": {
    "collapsed": true
   },
   "outputs": [],
   "source": [
    "def extract_actual_article_url(article_soup):\n",
    "    return article_soup.find_all('div', 'article-link-hidden')[0].get_text().strip()"
   ]
  },
  {
   "cell_type": "code",
   "execution_count": 106,
   "metadata": {
    "collapsed": true
   },
   "outputs": [],
   "source": [
    "from newspaper import Article\n",
    "\n",
    "def extract_article(url):\n",
    "    soup = url_to_soup(url)\n",
    "    bias_text = soup.find(id=BIAS_DIV_ID).img[\"title\"]\n",
    "    bias_score = BIAS_NAME_TO_SCORE[bias_text]\n",
    "    article_url = extract_actual_article_url(soup)\n",
    "    article = Article(article_url, language='en')\n",
    "    article.download()\n",
    "    article.parse()\n",
    "    return {\n",
    "        \"title\": article.title,\n",
    "        \"text\": article.text,\n",
    "        \"bias\": bias_score\n",
    "    }"
   ]
  },
  {
   "cell_type": "code",
   "execution_count": 116,
   "metadata": {
    "collapsed": false
   },
   "outputs": [],
   "source": [
    "# extract_article(example_urls[0])\n",
    "extracted = [extract_article(url) for url in example_urls]"
   ]
  },
  {
   "cell_type": "code",
   "execution_count": 119,
   "metadata": {
    "collapsed": false
   },
   "outputs": [
    {
     "data": {
      "text/html": [
       "<div>\n",
       "<table border=\"1\" class=\"dataframe\">\n",
       "  <thead>\n",
       "    <tr style=\"text-align: right;\">\n",
       "      <th></th>\n",
       "      <th>bias</th>\n",
       "      <th>text</th>\n",
       "      <th>title</th>\n",
       "    </tr>\n",
       "  </thead>\n",
       "  <tbody>\n",
       "    <tr>\n",
       "      <th>0</th>\n",
       "      <td>0.25</td>\n",
       "      <td>The committee and the bureau have blamed each ...</td>\n",
       "      <td>Democrats Confront F.B.I. Chief at Closed-Door...</td>\n",
       "    </tr>\n",
       "    <tr>\n",
       "      <th>1</th>\n",
       "      <td>0.50</td>\n",
       "      <td>CNN has become public enemy number one for Don...</td>\n",
       "      <td>CNN in Trump’s crosshairs</td>\n",
       "    </tr>\n",
       "    <tr>\n",
       "      <th>2</th>\n",
       "      <td>0.00</td>\n",
       "      <td>Mike Segar / Reuters Retired U.S. Army Lieuten...</td>\n",
       "      <td>Trump Adviser Michael Flynn Had FIVE Calls Wit...</td>\n",
       "    </tr>\n",
       "    <tr>\n",
       "      <th>3</th>\n",
       "      <td>1.00</td>\n",
       "      <td>Rep. John Lewis (D-GA) did not mince words on ...</td>\n",
       "      <td>Democratic Congressman: Trump Is Not A Legitim...</td>\n",
       "    </tr>\n",
       "    <tr>\n",
       "      <th>4</th>\n",
       "      <td>0.75</td>\n",
       "      <td>President-elect Donald Trump's typically frene...</td>\n",
       "      <td>No, Donald Trump Freezing Out a Reporter is No...</td>\n",
       "    </tr>\n",
       "  </tbody>\n",
       "</table>\n",
       "</div>"
      ],
      "text/plain": [
       "   bias                                               text  \\\n",
       "0  0.25  The committee and the bureau have blamed each ...   \n",
       "1  0.50  CNN has become public enemy number one for Don...   \n",
       "2  0.00  Mike Segar / Reuters Retired U.S. Army Lieuten...   \n",
       "3  1.00  Rep. John Lewis (D-GA) did not mince words on ...   \n",
       "4  0.75  President-elect Donald Trump's typically frene...   \n",
       "\n",
       "                                               title  \n",
       "0  Democrats Confront F.B.I. Chief at Closed-Door...  \n",
       "1                          CNN in Trump’s crosshairs  \n",
       "2  Trump Adviser Michael Flynn Had FIVE Calls Wit...  \n",
       "3  Democratic Congressman: Trump Is Not A Legitim...  \n",
       "4  No, Donald Trump Freezing Out a Reporter is No...  "
      ]
     },
     "execution_count": 119,
     "metadata": {},
     "output_type": "execute_result"
    }
   ],
   "source": [
    "import pandas as pd\n",
    "# df = pd.DataFrame(columns=('title', 'bias', 'content'))\n",
    "pd.DataFrame(extracted, index=range(len(extracted)))"
   ]
  },
  {
   "cell_type": "code",
   "execution_count": 29,
   "metadata": {
    "collapsed": false
   },
   "outputs": [],
   "source": [
    "bias = soup.find(id=BIAS_DIV_ID).img[\"title\"]\n",
    "\n",
    "article = Article(bias)"
   ]
  },
  {
   "cell_type": "code",
   "execution_count": 89,
   "metadata": {
    "collapsed": false
   },
   "outputs": [],
   "source": [
    "title = source_article.h1.get_text()"
   ]
  },
  {
   "cell_type": "code",
   "execution_count": 91,
   "metadata": {
    "collapsed": false
   },
   "outputs": [],
   "source": [
    "a = Article(article_source, language='en')"
   ]
  },
  {
   "cell_type": "code",
   "execution_count": 92,
   "metadata": {
    "collapsed": false
   },
   "outputs": [],
   "source": [
    "a.download()\n",
    "a.parse()"
   ]
  },
  {
   "cell_type": "code",
   "execution_count": 94,
   "metadata": {
    "collapsed": false
   },
   "outputs": [
    {
     "data": {
      "text/plain": [
       "['Matthew Rosenberg', 'Adam Goldman']"
      ]
     },
     "execution_count": 94,
     "metadata": {},
     "output_type": "execute_result"
    }
   ],
   "source": [
    "a.authors"
   ]
  },
  {
   "cell_type": "code",
   "execution_count": 101,
   "metadata": {
    "collapsed": false
   },
   "outputs": [
    {
     "data": {
      "text/plain": [
       "'Democrats Confront F.B.I. Chief at Closed-Door Intelligence Briefing'"
      ]
     },
     "execution_count": 101,
     "metadata": {},
     "output_type": "execute_result"
    }
   ],
   "source": [
    "a.title"
   ]
  }
 ],
 "metadata": {
  "anaconda-cloud": {},
  "kernelspec": {
   "display_name": "Python [default]",
   "language": "python",
   "name": "python3"
  },
  "language_info": {
   "codemirror_mode": {
    "name": "ipython",
    "version": 3
   },
   "file_extension": ".py",
   "mimetype": "text/x-python",
   "name": "python",
   "nbconvert_exporter": "python",
   "pygments_lexer": "ipython3",
   "version": "3.5.2"
  }
 },
 "nbformat": 4,
 "nbformat_minor": 2
}
