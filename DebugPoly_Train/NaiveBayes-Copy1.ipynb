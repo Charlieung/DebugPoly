{
 "cells": [
  {
   "cell_type": "code",
   "execution_count": 1,
   "metadata": {
    "collapsed": false
   },
   "outputs": [
    {
     "name": "stdout",
     "output_type": "stream",
     "text": [
      "0    SECTIONS HOME SEARCHSKIP TO CONTENTSKIP TO NAV...\n",
      "1    SECTIONS HOME SEARCHSKIP TO CONTENTSKIP TO NAV...\n",
      "2    SECTIONS HOME SEARCHSKIP TO CONTENTSKIP TO NAV...\n",
      "3    SECTIONS HOME SEARCHSKIP TO CONTENTSKIP TO NAV...\n",
      "Name: text, dtype: object 0    DOW JONES, A NEWS CORP COMPANY \\nDJIA\\n?\\n1988...\n",
      "1    \\n \\n       \\nDailyCaller\\n\\n \\n\\nHOME\\nPOLITI...\n",
      "2    \\n \\n       \\nDailyCaller\\n\\n \\n\\nHOME\\nPOLITI...\n",
      "3    \\nPowered by Tynt\\nshare on Facebooktweet this...\n",
      "Name: text, dtype: object\n"
     ]
    }
   ],
   "source": [
    "import os\n",
    "import pandas as pd\n",
    "\n",
    "#Read in Liberal data from txt files\n",
    "data = []\n",
    "\n",
    "for f in os.listdir('./libdata'):\n",
    "    with open('./libdata/' + f, 'r') as myfile:\n",
    "        data.append(myfile.read())\n",
    "        \n",
    "srsLib = pd.Series(data, name = 'text')\n",
    "\n",
    "#Read in Conservative data from txt files\n",
    "data = []\n",
    "\n",
    "for f in os.listdir('./condata'):\n",
    "    with open('./condata/' + f, 'r') as myfile:\n",
    "        data.append(myfile.read())\n",
    "\n",
    "srsCon = pd.Series(data, name = 'text')\n",
    "\n",
    "#len('Message-ID: <2262872.1075863600393.JavaMail.evans@thyme>')\n",
    "#dfSpam = pd.concat([enron, pd.Series([0]*len(enron), name = 'isFood')], axis = 1)\n",
    "#dfSpam.to_csv('enron.csv')\n",
    "#dfSpam.head()\n",
    "\n",
    "print (srsLib, srsCon)"
   ]
  },
  {
   "cell_type": "code",
   "execution_count": 3,
   "metadata": {
    "collapsed": false
   },
   "outputs": [],
   "source": [
    "import pandas as pd\n",
    "articles = pd.read_csv('../scrape/articles_bias.csv')"
   ]
  },
  {
   "cell_type": "code",
   "execution_count": 4,
   "metadata": {
    "collapsed": false
   },
   "outputs": [
    {
     "data": {
      "text/plain": [
       "54"
      ]
     },
     "execution_count": 4,
     "metadata": {},
     "output_type": "execute_result"
    }
   ],
   "source": [
    "sum(articles['bias_score'] == .5)"
   ]
  },
  {
   "cell_type": "code",
   "execution_count": 6,
   "metadata": {
    "collapsed": false
   },
   "outputs": [],
   "source": [
    "articles.head(5)\n",
    "[articles['bias_score'] > .5]\n",
    "articles = articles.loc[articles['bias_score'] != .5]\n",
    "articles.loc[articles['bias_score'] > .5, 'bias_score'] = 1\n",
    "articles.loc[articles['bias_score'] < .5 , 'bias_score'] = 0"
   ]
  },
  {
   "cell_type": "code",
   "execution_count": 8,
   "metadata": {
    "collapsed": false
   },
   "outputs": [
    {
     "data": {
      "text/plain": [
       "1.0    29\n",
       "0.0    29\n",
       "Name: bias_score, dtype: int64"
      ]
     },
     "execution_count": 8,
     "metadata": {},
     "output_type": "execute_result"
    }
   ],
   "source": [
    "articles['bias_score'].value_counts()"
   ]
  },
  {
   "cell_type": "code",
   "execution_count": 9,
   "metadata": {
    "collapsed": false
   },
   "outputs": [
    {
     "data": {
      "text/html": [
       "<div>\n",
       "<table border=\"1\" class=\"dataframe\">\n",
       "  <thead>\n",
       "    <tr style=\"text-align: right;\">\n",
       "      <th></th>\n",
       "      <th>text</th>\n",
       "      <th>bias_score</th>\n",
       "    </tr>\n",
       "  </thead>\n",
       "  <tbody>\n",
       "    <tr>\n",
       "      <th>0</th>\n",
       "      <td>Running for president, Donald Trump promised a...</td>\n",
       "      <td>0.0</td>\n",
       "    </tr>\n",
       "    <tr>\n",
       "      <th>2</th>\n",
       "      <td>Bill Clark/CQ Roll Call via Getty Images Forme...</td>\n",
       "      <td>0.0</td>\n",
       "    </tr>\n",
       "    <tr>\n",
       "      <th>8</th>\n",
       "      <td>\\n\\nSenator Jeff Sessions, Donald Trump’s nomi...</td>\n",
       "      <td>0.0</td>\n",
       "    </tr>\n",
       "    <tr>\n",
       "      <th>9</th>\n",
       "      <td>Tillerson’s answer on Exxon’s dealings around ...</td>\n",
       "      <td>0.0</td>\n",
       "    </tr>\n",
       "    <tr>\n",
       "      <th>10</th>\n",
       "      <td>McMentum? New Utah poll has Trump ahead but Mc...</td>\n",
       "      <td>1.0</td>\n",
       "    </tr>\n",
       "  </tbody>\n",
       "</table>\n",
       "</div>"
      ],
      "text/plain": [
       "                                                 text  bias_score\n",
       "0   Running for president, Donald Trump promised a...         0.0\n",
       "2   Bill Clark/CQ Roll Call via Getty Images Forme...         0.0\n",
       "8   \\n\\nSenator Jeff Sessions, Donald Trump’s nomi...         0.0\n",
       "9   Tillerson’s answer on Exxon’s dealings around ...         0.0\n",
       "10  McMentum? New Utah poll has Trump ahead but Mc...         1.0"
      ]
     },
     "execution_count": 9,
     "metadata": {},
     "output_type": "execute_result"
    }
   ],
   "source": [
    "articles[['text', 'bias_score']].head(5)"
   ]
  },
  {
   "cell_type": "code",
   "execution_count": 20,
   "metadata": {
    "collapsed": true
   },
   "outputs": [],
   "source": [
    "from nltk.tokenize import RegexpTokenizer\n",
    "\n",
    "def clean_text(text):\n",
    "    return ' '.join(\n",
    "        RegexpTokenizer(r'\\w+').tokenize(\n",
    "        str.lower(\n",
    "            text\n",
    "            )\n",
    "        )\n",
    "    )"
   ]
  },
  {
   "cell_type": "code",
   "execution_count": 21,
   "metadata": {
    "collapsed": true
   },
   "outputs": [],
   "source": [
    "articles['text'] = articles['text'].apply(clean_text)"
   ]
  },
  {
   "cell_type": "code",
   "execution_count": 45,
   "metadata": {
    "collapsed": false
   },
   "outputs": [],
   "source": [
    "from sklearn.feature_extraction.text import CountVectorizer\n",
    "from sklearn.feature_extraction.text import TfidfTransformer\n",
    "from sklearn.naive_bayes import MultinomialNB\n",
    "from sklearn.pipeline import Pipeline\n",
    "\n",
    "#from sklearn.cross_validation import KFold\n",
    "from sklearn.cross_validation import train_test_split\n",
    "from sklearn.cross_validation import cross_val_score\n",
    "from sklearn.grid_search import GridSearchCV\n",
    "\n",
    "import numpy as np\n",
    "\n",
    "parameters = {'vect__ngram_range': [(1, 1), (1, 2)],\n",
    "               'tfidf__use_idf': (True, False),\n",
    "               'clf__alpha': (1e-2, 1e-3),\n",
    "}\n",
    "\n",
    "X_train, y_train, X_test, y_test = train_test_split(articles['text'], articles['bias_score'], test_size=0.33, random_state=42)\n",
    "#kf = cross_validation.KFold(4, n_folds=5)\n",
    "\n",
    "text_clf = Pipeline([('vect', CountVectorizer()),\n",
    "                      ('tfidf', TfidfTransformer()),\n",
    "                      ('clf', MultinomialNB()),\n",
    " ])\n",
    "\n",
    "#print(cross_val_score(text_clf, articles['text'], articles['bias_score']))\n",
    "\n",
    "text_clf.fit(articles['text'], articles['bias_score'])\n",
    "\n",
    "# from sklearn.externals import joblib\n",
    "# joblib.dump(text_clf, 'text_clf.pkl')\n",
    "\n",
    "predicted = text_clf.predict_proba(y_train)\n",
    "#np.mean(predicted == y_test)"
   ]
  },
  {
   "cell_type": "code",
   "execution_count": 56,
   "metadata": {
    "collapsed": false
   },
   "outputs": [
    {
     "data": {
      "text/plain": [
       "(0.35799712900046837,\n",
       " 0.5638061241041824,\n",
       " 0.59025101296778038,\n",
       " 0.52803263267198297,\n",
       " 0.38185393790870048,\n",
       " 0.32485818576540559,\n",
       " 0.5894825621331431,\n",
       " 0.57626563026414068,\n",
       " 0.61348095870146035,\n",
       " 0.31749436756957511,\n",
       " 0.63124362423183489,\n",
       " 0.39145425046819227,\n",
       " 0.34703251757002851,\n",
       " 0.34135430451311938,\n",
       " 0.53139869281825514,\n",
       " 0.59544453165847866,\n",
       " 0.38842925052167959,\n",
       " 0.62579772822648949,\n",
       " 0.55308558195643043,\n",
       " 0.70654941027035267)"
      ]
     },
     "execution_count": 56,
     "metadata": {},
     "output_type": "execute_result"
    }
   ],
   "source": [
    "list(zip(*predicted))[1] #These are the predictions in probability."
   ]
  },
  {
   "cell_type": "code",
   "execution_count": 10,
   "metadata": {
    "collapsed": false
   },
   "outputs": [
    {
     "data": {
      "text/plain": [
       "0.0    83\n",
       "1.0    29\n",
       "Name: bias_score, dtype: int64"
      ]
     },
     "execution_count": 10,
     "metadata": {},
     "output_type": "execute_result"
    }
   ],
   "source": [
    "articles['bias_score'].value_counts()"
   ]
  },
  {
   "cell_type": "code",
   "execution_count": 89,
   "metadata": {
    "collapsed": false
   },
   "outputs": [],
   "source": [
    "#Split into train and test set\n",
    "import numpy as np\n",
    "import sklearn\n",
    "from sklearn.cross_validation import train_test_split\n",
    "\n",
    "X = dfData['text']\n",
    "y = dfData['isLib']\n",
    "\n",
    "X_train, X_test, y_train, y_test = train_test_split(X, y, test_size=0.33, random_state=42)"
   ]
  },
  {
   "cell_type": "code",
   "execution_count": 90,
   "metadata": {
    "collapsed": true
   },
   "outputs": [],
   "source": [
    "from sklearn.feature_extraction.text import CountVectorizer\n",
    "from sklearn.feature_extraction.text import TfidfTransformer\n",
    "from sklearn.naive_bayes import MultinomialNB\n",
    "from sklearn.pipeline import Pipeline\n",
    "\n",
    "text_clf = Pipeline([('vect', CountVectorizer()),\n",
    "                      ('tfidf', TfidfTransformer()),\n",
    "                      ('clf', MultinomialNB()),\n",
    " ])"
   ]
  },
  {
   "cell_type": "code",
   "execution_count": 91,
   "metadata": {
    "collapsed": false
   },
   "outputs": [
    {
     "data": {
      "text/plain": [
       "0.33333333333333331"
      ]
     },
     "execution_count": 91,
     "metadata": {},
     "output_type": "execute_result"
    }
   ],
   "source": [
    "text_clf.fit(X_train, y_train)\n",
    "\n",
    "from sklearn.externals import joblib\n",
    "joblib.dump(text_clf, 'text_clf.pkl')\n",
    "\n",
    "predicted = text_clf.predict(X_test)\n",
    "np.mean(predicted == y_test)"
   ]
  }
 ],
 "metadata": {
  "anaconda-cloud": {},
  "kernelspec": {
   "display_name": "Python [default]",
   "language": "python",
   "name": "python3"
  },
  "language_info": {
   "codemirror_mode": {
    "name": "ipython",
    "version": 3
   },
   "file_extension": ".py",
   "mimetype": "text/x-python",
   "name": "python",
   "nbconvert_exporter": "python",
   "pygments_lexer": "ipython3",
   "version": "3.5.2"
  }
 },
 "nbformat": 4,
 "nbformat_minor": 1
}
